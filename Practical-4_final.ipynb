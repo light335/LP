{
 "cells": [
  {
   "cell_type": "code",
   "execution_count": 1,
   "id": "4467d8de-0ee3-4b4c-8fb4-18c8896b1bbe",
   "metadata": {},
   "outputs": [],
   "source": [
    "import pandas as pd\n",
    "import matplotlib.pyplot as plt\n",
    "from sklearn.cluster import KMeans\n",
    "from sklearn.preprocessing import StandardScaler\n",
    "\n",
    "# Load the dataset\n",
    "df = pd.read_csv('/home/vishal/Documents/datasets/sales_data_sample.csv', encoding='latin1')\n",
    "\n",
    "# Select relevant features for clustering (e.g., 'SALES' and 'QUANTITYORDERED')\n",
    "df_clustering = df[['SALES', 'QUANTITYORDERED']].dropna()"
   ]
  },
  {
   "cell_type": "code",
   "execution_count": 2,
   "id": "e7d7f8a5-c993-483e-ae48-0eb6c30e3f1d",
   "metadata": {},
   "outputs": [
    {
     "data": {
      "text/html": [
       "<div>\n",
       "<style scoped>\n",
       "    .dataframe tbody tr th:only-of-type {\n",
       "        vertical-align: middle;\n",
       "    }\n",
       "\n",
       "    .dataframe tbody tr th {\n",
       "        vertical-align: top;\n",
       "    }\n",
       "\n",
       "    .dataframe thead th {\n",
       "        text-align: right;\n",
       "    }\n",
       "</style>\n",
       "<table border=\"1\" class=\"dataframe\">\n",
       "  <thead>\n",
       "    <tr style=\"text-align: right;\">\n",
       "      <th></th>\n",
       "      <th>SALES</th>\n",
       "      <th>QUANTITYORDERED</th>\n",
       "    </tr>\n",
       "  </thead>\n",
       "  <tbody>\n",
       "    <tr>\n",
       "      <th>0</th>\n",
       "      <td>2871.00</td>\n",
       "      <td>30</td>\n",
       "    </tr>\n",
       "    <tr>\n",
       "      <th>1</th>\n",
       "      <td>2765.90</td>\n",
       "      <td>34</td>\n",
       "    </tr>\n",
       "    <tr>\n",
       "      <th>2</th>\n",
       "      <td>3884.34</td>\n",
       "      <td>41</td>\n",
       "    </tr>\n",
       "    <tr>\n",
       "      <th>3</th>\n",
       "      <td>3746.70</td>\n",
       "      <td>45</td>\n",
       "    </tr>\n",
       "    <tr>\n",
       "      <th>4</th>\n",
       "      <td>5205.27</td>\n",
       "      <td>49</td>\n",
       "    </tr>\n",
       "    <tr>\n",
       "      <th>...</th>\n",
       "      <td>...</td>\n",
       "      <td>...</td>\n",
       "    </tr>\n",
       "    <tr>\n",
       "      <th>2818</th>\n",
       "      <td>2244.40</td>\n",
       "      <td>20</td>\n",
       "    </tr>\n",
       "    <tr>\n",
       "      <th>2819</th>\n",
       "      <td>3978.51</td>\n",
       "      <td>29</td>\n",
       "    </tr>\n",
       "    <tr>\n",
       "      <th>2820</th>\n",
       "      <td>5417.57</td>\n",
       "      <td>43</td>\n",
       "    </tr>\n",
       "    <tr>\n",
       "      <th>2821</th>\n",
       "      <td>2116.16</td>\n",
       "      <td>34</td>\n",
       "    </tr>\n",
       "    <tr>\n",
       "      <th>2822</th>\n",
       "      <td>3079.44</td>\n",
       "      <td>47</td>\n",
       "    </tr>\n",
       "  </tbody>\n",
       "</table>\n",
       "<p>2823 rows × 2 columns</p>\n",
       "</div>"
      ],
      "text/plain": [
       "        SALES  QUANTITYORDERED\n",
       "0     2871.00               30\n",
       "1     2765.90               34\n",
       "2     3884.34               41\n",
       "3     3746.70               45\n",
       "4     5205.27               49\n",
       "...       ...              ...\n",
       "2818  2244.40               20\n",
       "2819  3978.51               29\n",
       "2820  5417.57               43\n",
       "2821  2116.16               34\n",
       "2822  3079.44               47\n",
       "\n",
       "[2823 rows x 2 columns]"
      ]
     },
     "execution_count": 2,
     "metadata": {},
     "output_type": "execute_result"
    }
   ],
   "source": [
    "df_clustering"
   ]
  },
  {
   "cell_type": "code",
   "execution_count": 3,
   "id": "9484bb1e-d860-43bf-831a-a42e45e114be",
   "metadata": {},
   "outputs": [],
   "source": [
    "# Standardize the data\n",
    "scaler = StandardScaler()\n",
    "scaled_data = scaler.fit_transform(df_clustering)"
   ]
  },
  {
   "cell_type": "code",
   "execution_count": 4,
   "id": "4c171c4e-93f6-4b04-9614-8b855d08162d",
   "metadata": {},
   "outputs": [
    {
     "data": {
      "text/plain": [
       "array([[-0.37082523, -0.52289086],\n",
       "       [-0.42789707, -0.11220131],\n",
       "       [ 0.17944282,  0.60650538],\n",
       "       ...,\n",
       "       [ 1.01202368,  0.81185016],\n",
       "       [-0.78072155, -0.11220131],\n",
       "       [-0.25763729,  1.2225397 ]])"
      ]
     },
     "execution_count": 4,
     "metadata": {},
     "output_type": "execute_result"
    }
   ],
   "source": [
    "scaled_data"
   ]
  },
  {
   "cell_type": "code",
   "execution_count": 5,
   "id": "0177352b-13ee-4d58-b72a-9de95e795427",
   "metadata": {},
   "outputs": [],
   "source": [
    "sse=[]\n",
    "for k in range(1,11):\n",
    "    kmeans=KMeans(n_clusters=k,random_state=0)\n",
    "    kmeans.fit_transform(scaled_data)\n",
    "    sse.append(kmeans.inertia_)\n"
   ]
  },
  {
   "cell_type": "code",
   "execution_count": 6,
   "id": "db677921-486c-4a7d-b6d1-e957e013ec1a",
   "metadata": {},
   "outputs": [
    {
     "data": {
      "text/plain": [
       "<Figure size 640x480 with 0 Axes>"
      ]
     },
     "execution_count": 6,
     "metadata": {},
     "output_type": "execute_result"
    },
    {
     "data": {
      "text/plain": [
       "<Figure size 640x480 with 0 Axes>"
      ]
     },
     "metadata": {},
     "output_type": "display_data"
    }
   ],
   "source": [
    "plt.figure()"
   ]
  },
  {
   "cell_type": "code",
   "execution_count": 7,
   "id": "6387019d-ca8f-4d7b-bbcd-907ce728ab2b",
   "metadata": {},
   "outputs": [
    {
     "data": {
      "text/plain": [
       "[<matplotlib.lines.Line2D at 0x787c943d5690>]"
      ]
     },
     "execution_count": 7,
     "metadata": {},
     "output_type": "execute_result"
    },
    {
     "data": {
      "image/png": "[encoded data removed]",
      "text/plain": [
       "<Figure size 640x480 with 1 Axes>"
      ]
     },
     "metadata": {},
     "output_type": "display_data"
    }
   ],
   "source": [
    "plt.plot(sse,marker='o')"
   ]
  },
  {
   "cell_type": "code",
   "execution_count": 8,
   "id": "eef980d7-2c23-4128-ac28-6ba5400bca63",
   "metadata": {},
   "outputs": [],
   "source": [
    "optimal_K=10"
   ]
  },
  {
   "cell_type": "code",
   "execution_count": 9,
   "id": "93097444-3784-47d5-8eba-528ea5cf39d3",
   "metadata": {},
   "outputs": [],
   "source": [
    "kmeans=KMeans(n_clusters=optimal_K,random_state=42)"
   ]
  },
  {
   "cell_type": "code",
   "execution_count": 10,
   "id": "6c91faf7-25db-45de-85f5-ef88f95c94ad",
   "metadata": {},
   "outputs": [],
   "source": [
    "df_clustering['Cluster']=kmeans.fit_predict(scaled_data)"
   ]
  },
  {
   "cell_type": "code",
   "execution_count": 11,
   "id": "c9066ebd-a591-4e32-bf58-2c3f19a139ed",
   "metadata": {},
   "outputs": [
    {
     "data": {
      "text/html": [
       "<div>\n",
       "<style scoped>\n",
       "    .dataframe tbody tr th:only-of-type {\n",
       "        vertical-align: middle;\n",
       "    }\n",
       "\n",
       "    .dataframe tbody tr th {\n",
       "        vertical-align: top;\n",
       "    }\n",
       "\n",
       "    .dataframe thead th {\n",
       "        text-align: right;\n",
       "    }\n",
       "</style>\n",
       "<table border=\"1\" class=\"dataframe\">\n",
       "  <thead>\n",
       "    <tr style=\"text-align: right;\">\n",
       "      <th></th>\n",
       "      <th>SALES</th>\n",
       "      <th>QUANTITYORDERED</th>\n",
       "      <th>Cluster</th>\n",
       "    </tr>\n",
       "  </thead>\n",
       "  <tbody>\n",
       "    <tr>\n",
       "      <th>0</th>\n",
       "      <td>2871.00</td>\n",
       "      <td>30</td>\n",
       "      <td>0</td>\n",
       "    </tr>\n",
       "    <tr>\n",
       "      <th>1</th>\n",
       "      <td>2765.90</td>\n",
       "      <td>34</td>\n",
       "      <td>8</td>\n",
       "    </tr>\n",
       "    <tr>\n",
       "      <th>2</th>\n",
       "      <td>3884.34</td>\n",
       "      <td>41</td>\n",
       "      <td>1</td>\n",
       "    </tr>\n",
       "    <tr>\n",
       "      <th>3</th>\n",
       "      <td>3746.70</td>\n",
       "      <td>45</td>\n",
       "      <td>4</td>\n",
       "    </tr>\n",
       "    <tr>\n",
       "      <th>4</th>\n",
       "      <td>5205.27</td>\n",
       "      <td>49</td>\n",
       "      <td>1</td>\n",
       "    </tr>\n",
       "    <tr>\n",
       "      <th>...</th>\n",
       "      <td>...</td>\n",
       "      <td>...</td>\n",
       "      <td>...</td>\n",
       "    </tr>\n",
       "    <tr>\n",
       "      <th>2818</th>\n",
       "      <td>2244.40</td>\n",
       "      <td>20</td>\n",
       "      <td>7</td>\n",
       "    </tr>\n",
       "    <tr>\n",
       "      <th>2819</th>\n",
       "      <td>3978.51</td>\n",
       "      <td>29</td>\n",
       "      <td>3</td>\n",
       "    </tr>\n",
       "    <tr>\n",
       "      <th>2820</th>\n",
       "      <td>5417.57</td>\n",
       "      <td>43</td>\n",
       "      <td>1</td>\n",
       "    </tr>\n",
       "    <tr>\n",
       "      <th>2821</th>\n",
       "      <td>2116.16</td>\n",
       "      <td>34</td>\n",
       "      <td>0</td>\n",
       "    </tr>\n",
       "    <tr>\n",
       "      <th>2822</th>\n",
       "      <td>3079.44</td>\n",
       "      <td>47</td>\n",
       "      <td>4</td>\n",
       "    </tr>\n",
       "  </tbody>\n",
       "</table>\n",
       "<p>2823 rows × 3 columns</p>\n",
       "</div>"
      ],
      "text/plain": [
       "        SALES  QUANTITYORDERED  Cluster\n",
       "0     2871.00               30        0\n",
       "1     2765.90               34        8\n",
       "2     3884.34               41        1\n",
       "3     3746.70               45        4\n",
       "4     5205.27               49        1\n",
       "...       ...              ...      ...\n",
       "2818  2244.40               20        7\n",
       "2819  3978.51               29        3\n",
       "2820  5417.57               43        1\n",
       "2821  2116.16               34        0\n",
       "2822  3079.44               47        4\n",
       "\n",
       "[2823 rows x 3 columns]"
      ]
     },
     "execution_count": 11,
     "metadata": {},
     "output_type": "execute_result"
    }
   ],
   "source": [
    "df_clustering"
   ]
  },
  {
   "cell_type": "code",
   "execution_count": 20,
   "id": "3142fe3d-e202-4506-a3a4-5c94677a201b",
   "metadata": {},
   "outputs": [],
   "source": [
    "pd.set_option('display.max_rows', None)  \n",
    "from scipy.cluster.hierarchy import dendrogram, linkage, fcluster\n",
    "z= linkage(scaled_data, method='ward')\n"
   ]
  },
  {
   "cell_type": "code",
   "execution_count": 23,
   "id": "1a339c68-f4c5-4676-a924-5d6970b1096c",
   "metadata": {},
   "outputs": [
    {
     "data": {
      "image/png": "[encoded data removed]",
      "text/plain": [
       "<Figure size 640x480 with 1 Axes>"
      ]
     },
     "metadata": {},
     "output_type": "display_data"
    }
   ],
   "source": [
    "dendrogram(z)\n",
    "plt.show()\n"
   ]
  },
  {
   "cell_type": "code",
   "execution_count": 22,
   "id": "05ceef49-1737-4dee-9fa0-598d66ffda0d",
   "metadata": {},
   "outputs": [],
   "source": [
    "plt.show()\n"
   ]
  },
  {
   "cell_type": "code",
   "execution_count": null,
   "id": "47d23d67-35ec-47a6-aa77-33410f49d6dd",
   "metadata": {},
   "outputs": [],
   "source": []
  },
  {
   "cell_type": "code",
   "execution_count": null,
   "id": "09f51d61-5d83-47ea-b846-c82d0ff574e8",
   "metadata": {},
   "outputs": [],
   "source": []
  },
  {
   "cell_type": "code",
   "execution_count": null,
   "id": "aa80127f-cc67-4309-9b1b-b55458e4e040",
   "metadata": {},
   "outputs": [],
   "source": []
  }
 ],
 "metadata": {
  "kernelspec": {
   "display_name": "Python (myenv)",
   "language": "python",
   "name": "myenv"
  },
  "language_info": {
   "codemirror_mode": {
    "name": "ipython",
    "version": 3
   },
   "file_extension": ".py",
   "mimetype": "text/x-python",
   "name": "python",
   "nbconvert_exporter": "python",
   "pygments_lexer": "ipython3",
   "version": "3.10.12"
  }
 },
 "nbformat": 4,
 "nbformat_minor": 5
}

{
 "cells": [
  {
   "cell_type": "code",
   "execution_count": 1,
   "id": "2d80102a-21c1-433e-8cd4-e518ca7487a3",
   "metadata": {},
   "outputs": [
    {
     "name": "stdout",
     "output_type": "stream",
     "text": [
      "Converged at iteration 62\n",
      "local_ minima:  -2.999995096014269\n",
      "The function value at this point is y = 2.4049076048192486e-11\n"
     ]
    }
   ],
   "source": [
    "def function(x):\n",
    "    return (x+3)**2\n",
    "\n",
    "def derivative(x):\n",
    "    return 2*(x+3)\n",
    "\n",
    "\n",
    "\n",
    "x=2;\n",
    "alpha=0.1\n",
    "\n",
    "\n",
    "iteration=1000;\n",
    "tolerance=0.000001\n",
    "\n",
    "\n",
    "for i in range(iteration):\n",
    "    gradient=derivative(x)\n",
    "    new_x=x-alpha*gradient\n",
    "    if abs(new_x-x)<tolerance:\n",
    "        print(f\"Converged at iteration {i}\")\n",
    "\n",
    "        break;\n",
    "    x=new_x\n",
    "    \n",
    "\n",
    "\n",
    "print(\"local_ minima: \",x)\n",
    "print(f\"The function value at this point is y = {(x + 3) ** 2}\")\n",
    "\n",
    "\n"
   ]
  },
  {
   "cell_type": "code",
   "execution_count": 2,
   "id": "e8db9595-f3c0-4bb8-b160-702e530e3e05",
   "metadata": {},
   "outputs": [
    {
     "name": "stdout",
     "output_type": "stream",
     "text": [
      "Converged at iteration 62\n",
      "The local minimum occurs at x = -2.999995096014269\n",
      "The function value at this point is y = 2.4049076048192486e-11\n"
     ]
    }
   ],
   "source": [
    "# Gradient Descent for y = (x + 3)^2\n",
    "\n",
    "# Initializing parameters\n",
    "learning_rate = 0.1\n",
    "max_iterations = 100\n",
    "tolerance = 1e-6\n",
    "x = 2  # Starting point\n",
    "\n",
    "# Function gradient\n",
    "def gradient(x):\n",
    "    return 2 * x + 6\n",
    "\n",
    "# Gradient Descent Algorithm\n",
    "for i in range(max_iterations):\n",
    "    grad = gradient(x)\n",
    "    step = learning_rate * grad\n",
    "    x_new = x - step\n",
    "    \n",
    "    # Stopping condition\n",
    "    if abs(step) < tolerance:\n",
    "        print(f\"Converged at iteration {i}\")\n",
    "        break\n",
    "    \n",
    "    x = x_new\n",
    "\n",
    "# Display the results\n",
    "print(f\"The local minimum occurs at x = {x}\")\n",
    "print(f\"The function value at this point is y = {(x + 3) ** 2}\")\n"
   ]
  },
  {
   "cell_type": "code",
   "execution_count": null,
   "id": "2f0768e3-c9e8-4be8-80e9-d009ab623e23",
   "metadata": {},
   "outputs": [],
   "source": []
  }
 ],
 "metadata": {
  "kernelspec": {
   "display_name": "Python 3 (ipykernel)",
   "language": "python",
   "name": "python3"
  },
  "language_info": {
   "codemirror_mode": {
    "name": "ipython",
    "version": 3
   },
   "file_extension": ".py",
   "mimetype": "text/x-python",
   "name": "python",
   "nbconvert_exporter": "python",
   "pygments_lexer": "ipython3",
   "version": "3.10.12"
  }
 },
 "nbformat": 4,
 "nbformat_minor": 5
}
